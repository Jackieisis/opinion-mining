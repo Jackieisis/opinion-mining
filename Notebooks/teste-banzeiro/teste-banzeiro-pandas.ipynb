{
 "cells": [
  {
   "cell_type": "markdown",
   "metadata": {},
   "source": [
    "# Parte 1\n",
    "\n",
    "## Imports\n",
    "\n",
    "- **numpy**: \n",
    "- **pandas**: \n",
    "- **nltk**: Para POS tagging, tokenização de sentenças e demais itens inerentes a NLP\n",
    "- **emoji**: Para converter emojis no texto para suas respectivas descriçrões\n",
    "- _emot_: Considerar o uso para extrair emojis e emoticons do texto\n",
    "- **re**: Para encontrar padrões por meio de expressões regulares"
   ]
  },
  {
   "cell_type": "code",
   "execution_count": 1,
   "metadata": {
    "slideshow": {
     "slide_type": "slide"
    }
   },
   "outputs": [],
   "source": [
    "import numpy as np\n",
    "import pandas as pd\n",
    "import nltk\n",
    "import emoji\n",
    "import re"
   ]
  },
  {
   "cell_type": "markdown",
   "metadata": {},
   "source": [
    "## Leitura dos dados\n",
    "\n",
    "Lendo os dados do arquivo **banzeiro.json** em duas listas de objetos, que serão representados por `dicts`. Uma lista guardará os dados com os emojis substituídos pelas suas respectivas descrições e a outra, o conteúdo original."
   ]
  },
  {
   "cell_type": "code",
   "execution_count": 2,
   "metadata": {},
   "outputs": [
    {
     "data": {
      "text/html": [
       "<div>\n",
       "<style scoped>\n",
       "    .dataframe tbody tr th:only-of-type {\n",
       "        vertical-align: middle;\n",
       "    }\n",
       "\n",
       "    .dataframe tbody tr th {\n",
       "        vertical-align: top;\n",
       "    }\n",
       "\n",
       "    .dataframe thead th {\n",
       "        text-align: right;\n",
       "    }\n",
       "</style>\n",
       "<table border=\"1\" class=\"dataframe\">\n",
       "  <thead>\n",
       "    <tr style=\"text-align: right;\">\n",
       "      <th></th>\n",
       "      <th>key</th>\n",
       "      <th>datetime</th>\n",
       "      <th>img_urls</th>\n",
       "      <th>caption</th>\n",
       "      <th>comments</th>\n",
       "    </tr>\n",
       "  </thead>\n",
       "  <tbody>\n",
       "    <tr>\n",
       "      <th>0</th>\n",
       "      <td>https://www.instagram.com/p/B2mMB_OHbfI/</td>\n",
       "      <td>2019-09-19 14:47:48+00:00</td>\n",
       "      <td>[https://z-p42-instagram.fpll2-1.fna.fbcdn.net...</td>\n",
       "      <td>Já provou os nossos Chás Gelados?\\nAs três com...</td>\n",
       "      <td>[{'author': 'audreycaminha', 'comment': 'Delic...</td>\n",
       "    </tr>\n",
       "    <tr>\n",
       "      <th>1</th>\n",
       "      <td>https://www.instagram.com/p/B2ef0osHDik/</td>\n",
       "      <td>2019-09-16 15:06:49+00:00</td>\n",
       "      <td>[https://z-p42-instagram.fpll2-1.fna.fbcdn.net...</td>\n",
       "      <td>Uma das entradas exclusivas do Banzeiro Manaus...</td>\n",
       "      <td>[{'author': 'karenmabel', 'comment': 'é sensac...</td>\n",
       "    </tr>\n",
       "    <tr>\n",
       "      <th>2</th>\n",
       "      <td>https://www.instagram.com/p/B2ZXEGSn1di/</td>\n",
       "      <td>2019-09-14 15:14:05+00:00</td>\n",
       "      <td>[https://z-p42-instagram.fpll2-1.fna.fbcdn.net...</td>\n",
       "      <td>“Todos os dias penso no compromisso que tenho ...</td>\n",
       "      <td>[{'author': '59cmlc', 'comment': 'Estive no Ba...</td>\n",
       "    </tr>\n",
       "    <tr>\n",
       "      <th>3</th>\n",
       "      <td>https://www.instagram.com/p/B2UpaJ5HLWg/</td>\n",
       "      <td>2019-09-12 19:23:34+00:00</td>\n",
       "      <td>[]</td>\n",
       "      <td>Felipe Schaedler, Cidadão Amazonense!\\n\\nAssis...</td>\n",
       "      <td>[{'author': 'ricfeitoza', 'comment': '👏🏽👏🏽👏🏽👏🏽...</td>\n",
       "    </tr>\n",
       "    <tr>\n",
       "      <th>4</th>\n",
       "      <td>https://www.instagram.com/p/B2PCM4Qn9mD/</td>\n",
       "      <td>2019-09-10 14:59:22+00:00</td>\n",
       "      <td>[https://z-p42-instagram.fpll2-1.fna.fbcdn.net...</td>\n",
       "      <td>Tanga verde de folhas, corpo claro de Cacau e ...</td>\n",
       "      <td>[{'author': 'ginapsic', 'comment': 'Delicia'},...</td>\n",
       "    </tr>\n",
       "  </tbody>\n",
       "</table>\n",
       "</div>"
      ],
      "text/plain": [
       "                                        key                  datetime  \\\n",
       "0  https://www.instagram.com/p/B2mMB_OHbfI/ 2019-09-19 14:47:48+00:00   \n",
       "1  https://www.instagram.com/p/B2ef0osHDik/ 2019-09-16 15:06:49+00:00   \n",
       "2  https://www.instagram.com/p/B2ZXEGSn1di/ 2019-09-14 15:14:05+00:00   \n",
       "3  https://www.instagram.com/p/B2UpaJ5HLWg/ 2019-09-12 19:23:34+00:00   \n",
       "4  https://www.instagram.com/p/B2PCM4Qn9mD/ 2019-09-10 14:59:22+00:00   \n",
       "\n",
       "                                            img_urls  \\\n",
       "0  [https://z-p42-instagram.fpll2-1.fna.fbcdn.net...   \n",
       "1  [https://z-p42-instagram.fpll2-1.fna.fbcdn.net...   \n",
       "2  [https://z-p42-instagram.fpll2-1.fna.fbcdn.net...   \n",
       "3                                                 []   \n",
       "4  [https://z-p42-instagram.fpll2-1.fna.fbcdn.net...   \n",
       "\n",
       "                                             caption  \\\n",
       "0  Já provou os nossos Chás Gelados?\\nAs três com...   \n",
       "1  Uma das entradas exclusivas do Banzeiro Manaus...   \n",
       "2  “Todos os dias penso no compromisso que tenho ...   \n",
       "3  Felipe Schaedler, Cidadão Amazonense!\\n\\nAssis...   \n",
       "4  Tanga verde de folhas, corpo claro de Cacau e ...   \n",
       "\n",
       "                                            comments  \n",
       "0  [{'author': 'audreycaminha', 'comment': 'Delic...  \n",
       "1  [{'author': 'karenmabel', 'comment': 'é sensac...  \n",
       "2  [{'author': '59cmlc', 'comment': 'Estive no Ba...  \n",
       "3  [{'author': 'ricfeitoza', 'comment': '👏🏽👏🏽👏🏽👏🏽...  \n",
       "4  [{'author': 'ginapsic', 'comment': 'Delicia'},...  "
      ]
     },
     "execution_count": 2,
     "metadata": {},
     "output_type": "execute_result"
    }
   ],
   "source": [
    "posts = pd.read_json(\"banzeiro.json\")\n",
    "posts.head()"
   ]
  },
  {
   "cell_type": "markdown",
   "metadata": {},
   "source": [
    "Verificando a estrutura dos dados, é possível perceber que existem colunas que não contém texto excrito por usuários, que uma publicação não possui legenda (`caption`) e que nem todas as instâncias possuem um vetor de comentários a ser processado (`comments`)."
   ]
  },
  {
   "cell_type": "code",
   "execution_count": 3,
   "metadata": {},
   "outputs": [
    {
     "data": {
      "text/plain": [
       "key         778\n",
       "datetime    778\n",
       "img_urls    778\n",
       "caption     777\n",
       "comments    606\n",
       "dtype: int64"
      ]
     },
     "execution_count": 3,
     "metadata": {},
     "output_type": "execute_result"
    }
   ],
   "source": [
    "posts.count()"
   ]
  },
  {
   "cell_type": "markdown",
   "metadata": {},
   "source": [
    "# Parte 2\n",
    "\n",
    "## Limpeza de dados\n",
    "\n",
    "Algumas operações de limpeza dos dados deverão ser realizadas, considerando os seguintes pontos:\n",
    "\n",
    "- Algumas colunas não são relevantes no processamento de texto\n",
    "- Comentários que apenas mencionam outros usuários não expressam uma opinião\n",
    "- Publicações sem legenda não deixam claro a que se endereça a opinião\n",
    "- Publicações sem comentários não possuem opiniões a serem mineradas\n"
   ]
  },
  {
   "cell_type": "markdown",
   "metadata": {},
   "source": [
    "### Removendo colunas sem importância"
   ]
  },
  {
   "cell_type": "code",
   "execution_count": 4,
   "metadata": {},
   "outputs": [],
   "source": [
    "posts = posts.drop([\"key\", \"datetime\", \"img_urls\"], axis=1)"
   ]
  },
  {
   "cell_type": "code",
   "execution_count": 5,
   "metadata": {},
   "outputs": [
    {
     "data": {
      "text/html": [
       "<div>\n",
       "<style scoped>\n",
       "    .dataframe tbody tr th:only-of-type {\n",
       "        vertical-align: middle;\n",
       "    }\n",
       "\n",
       "    .dataframe tbody tr th {\n",
       "        vertical-align: top;\n",
       "    }\n",
       "\n",
       "    .dataframe thead th {\n",
       "        text-align: right;\n",
       "    }\n",
       "</style>\n",
       "<table border=\"1\" class=\"dataframe\">\n",
       "  <thead>\n",
       "    <tr style=\"text-align: right;\">\n",
       "      <th></th>\n",
       "      <th>caption</th>\n",
       "      <th>comments</th>\n",
       "    </tr>\n",
       "  </thead>\n",
       "  <tbody>\n",
       "    <tr>\n",
       "      <th>0</th>\n",
       "      <td>Já provou os nossos Chás Gelados?\\nAs três com...</td>\n",
       "      <td>[{'author': 'audreycaminha', 'comment': 'Delic...</td>\n",
       "    </tr>\n",
       "    <tr>\n",
       "      <th>1</th>\n",
       "      <td>Uma das entradas exclusivas do Banzeiro Manaus...</td>\n",
       "      <td>[{'author': 'karenmabel', 'comment': 'é sensac...</td>\n",
       "    </tr>\n",
       "    <tr>\n",
       "      <th>2</th>\n",
       "      <td>“Todos os dias penso no compromisso que tenho ...</td>\n",
       "      <td>[{'author': '59cmlc', 'comment': 'Estive no Ba...</td>\n",
       "    </tr>\n",
       "    <tr>\n",
       "      <th>3</th>\n",
       "      <td>Felipe Schaedler, Cidadão Amazonense!\\n\\nAssis...</td>\n",
       "      <td>[{'author': 'ricfeitoza', 'comment': '👏🏽👏🏽👏🏽👏🏽...</td>\n",
       "    </tr>\n",
       "    <tr>\n",
       "      <th>4</th>\n",
       "      <td>Tanga verde de folhas, corpo claro de Cacau e ...</td>\n",
       "      <td>[{'author': 'ginapsic', 'comment': 'Delicia'},...</td>\n",
       "    </tr>\n",
       "    <tr>\n",
       "      <th>...</th>\n",
       "      <td>...</td>\n",
       "      <td>...</td>\n",
       "    </tr>\n",
       "    <tr>\n",
       "      <th>773</th>\n",
       "      <td>Totalmente diferente de tudo o que você já pro...</td>\n",
       "      <td>[{'author': 'gilson_monteiro', 'comment': 'O q...</td>\n",
       "    </tr>\n",
       "    <tr>\n",
       "      <th>774</th>\n",
       "      <td>Pôr do sol em São Gabriel da Cachoeira, por Fe...</td>\n",
       "      <td>NaN</td>\n",
       "    </tr>\n",
       "    <tr>\n",
       "      <th>775</th>\n",
       "      <td>Viaje com os sabores e combinações exóticas do...</td>\n",
       "      <td>NaN</td>\n",
       "    </tr>\n",
       "    <tr>\n",
       "      <th>776</th>\n",
       "      <td>Petit gateau amazônico.\\nVenha saborear essa m...</td>\n",
       "      <td>[{'author': 'victorer83', 'comment': '@marinay...</td>\n",
       "    </tr>\n",
       "    <tr>\n",
       "      <th>777</th>\n",
       "      <td>HOJE TEM: Carpaccio de Palmito de Pupunha com ...</td>\n",
       "      <td>NaN</td>\n",
       "    </tr>\n",
       "  </tbody>\n",
       "</table>\n",
       "<p>778 rows × 2 columns</p>\n",
       "</div>"
      ],
      "text/plain": [
       "                                               caption  \\\n",
       "0    Já provou os nossos Chás Gelados?\\nAs três com...   \n",
       "1    Uma das entradas exclusivas do Banzeiro Manaus...   \n",
       "2    “Todos os dias penso no compromisso que tenho ...   \n",
       "3    Felipe Schaedler, Cidadão Amazonense!\\n\\nAssis...   \n",
       "4    Tanga verde de folhas, corpo claro de Cacau e ...   \n",
       "..                                                 ...   \n",
       "773  Totalmente diferente de tudo o que você já pro...   \n",
       "774  Pôr do sol em São Gabriel da Cachoeira, por Fe...   \n",
       "775  Viaje com os sabores e combinações exóticas do...   \n",
       "776  Petit gateau amazônico.\\nVenha saborear essa m...   \n",
       "777  HOJE TEM: Carpaccio de Palmito de Pupunha com ...   \n",
       "\n",
       "                                              comments  \n",
       "0    [{'author': 'audreycaminha', 'comment': 'Delic...  \n",
       "1    [{'author': 'karenmabel', 'comment': 'é sensac...  \n",
       "2    [{'author': '59cmlc', 'comment': 'Estive no Ba...  \n",
       "3    [{'author': 'ricfeitoza', 'comment': '👏🏽👏🏽👏🏽👏🏽...  \n",
       "4    [{'author': 'ginapsic', 'comment': 'Delicia'},...  \n",
       "..                                                 ...  \n",
       "773  [{'author': 'gilson_monteiro', 'comment': 'O q...  \n",
       "774                                                NaN  \n",
       "775                                                NaN  \n",
       "776  [{'author': 'victorer83', 'comment': '@marinay...  \n",
       "777                                                NaN  \n",
       "\n",
       "[778 rows x 2 columns]"
      ]
     },
     "execution_count": 5,
     "metadata": {},
     "output_type": "execute_result"
    }
   ],
   "source": [
    "posts"
   ]
  },
  {
   "cell_type": "markdown",
   "metadata": {},
   "source": [
    "### Removendo linhas onde caption ou comments são nulos"
   ]
  },
  {
   "cell_type": "code",
   "execution_count": 6,
   "metadata": {},
   "outputs": [],
   "source": [
    "posts = posts.dropna()"
   ]
  },
  {
   "cell_type": "code",
   "execution_count": 7,
   "metadata": {},
   "outputs": [
    {
     "data": {
      "text/html": [
       "<div>\n",
       "<style scoped>\n",
       "    .dataframe tbody tr th:only-of-type {\n",
       "        vertical-align: middle;\n",
       "    }\n",
       "\n",
       "    .dataframe tbody tr th {\n",
       "        vertical-align: top;\n",
       "    }\n",
       "\n",
       "    .dataframe thead th {\n",
       "        text-align: right;\n",
       "    }\n",
       "</style>\n",
       "<table border=\"1\" class=\"dataframe\">\n",
       "  <thead>\n",
       "    <tr style=\"text-align: right;\">\n",
       "      <th></th>\n",
       "      <th>caption</th>\n",
       "      <th>comments</th>\n",
       "    </tr>\n",
       "  </thead>\n",
       "  <tbody>\n",
       "    <tr>\n",
       "      <th>0</th>\n",
       "      <td>Já provou os nossos Chás Gelados?\\nAs três com...</td>\n",
       "      <td>[{'author': 'audreycaminha', 'comment': 'Delic...</td>\n",
       "    </tr>\n",
       "    <tr>\n",
       "      <th>1</th>\n",
       "      <td>Uma das entradas exclusivas do Banzeiro Manaus...</td>\n",
       "      <td>[{'author': 'karenmabel', 'comment': 'é sensac...</td>\n",
       "    </tr>\n",
       "    <tr>\n",
       "      <th>2</th>\n",
       "      <td>“Todos os dias penso no compromisso que tenho ...</td>\n",
       "      <td>[{'author': '59cmlc', 'comment': 'Estive no Ba...</td>\n",
       "    </tr>\n",
       "    <tr>\n",
       "      <th>3</th>\n",
       "      <td>Felipe Schaedler, Cidadão Amazonense!\\n\\nAssis...</td>\n",
       "      <td>[{'author': 'ricfeitoza', 'comment': '👏🏽👏🏽👏🏽👏🏽...</td>\n",
       "    </tr>\n",
       "    <tr>\n",
       "      <th>4</th>\n",
       "      <td>Tanga verde de folhas, corpo claro de Cacau e ...</td>\n",
       "      <td>[{'author': 'ginapsic', 'comment': 'Delicia'},...</td>\n",
       "    </tr>\n",
       "    <tr>\n",
       "      <th>...</th>\n",
       "      <td>...</td>\n",
       "      <td>...</td>\n",
       "    </tr>\n",
       "    <tr>\n",
       "      <th>765</th>\n",
       "      <td>Desbrave novos sabores, embale seu paladar e d...</td>\n",
       "      <td>[{'author': 'mellothz', 'comment': 'Estive no ...</td>\n",
       "    </tr>\n",
       "    <tr>\n",
       "      <th>767</th>\n",
       "      <td>Pastel de pato. Deliciosamente incomparável. U...</td>\n",
       "      <td>[{'author': 'chriscalderaro', 'comment': 'Eu a...</td>\n",
       "    </tr>\n",
       "    <tr>\n",
       "      <th>771</th>\n",
       "      <td>O chef Felipe Schaedler foi convidado para par...</td>\n",
       "      <td>[{'author': 'thiagosuico', 'comment': '@felipe...</td>\n",
       "    </tr>\n",
       "    <tr>\n",
       "      <th>773</th>\n",
       "      <td>Totalmente diferente de tudo o que você já pro...</td>\n",
       "      <td>[{'author': 'gilson_monteiro', 'comment': 'O q...</td>\n",
       "    </tr>\n",
       "    <tr>\n",
       "      <th>776</th>\n",
       "      <td>Petit gateau amazônico.\\nVenha saborear essa m...</td>\n",
       "      <td>[{'author': 'victorer83', 'comment': '@marinay...</td>\n",
       "    </tr>\n",
       "  </tbody>\n",
       "</table>\n",
       "<p>606 rows × 2 columns</p>\n",
       "</div>"
      ],
      "text/plain": [
       "                                               caption  \\\n",
       "0    Já provou os nossos Chás Gelados?\\nAs três com...   \n",
       "1    Uma das entradas exclusivas do Banzeiro Manaus...   \n",
       "2    “Todos os dias penso no compromisso que tenho ...   \n",
       "3    Felipe Schaedler, Cidadão Amazonense!\\n\\nAssis...   \n",
       "4    Tanga verde de folhas, corpo claro de Cacau e ...   \n",
       "..                                                 ...   \n",
       "765  Desbrave novos sabores, embale seu paladar e d...   \n",
       "767  Pastel de pato. Deliciosamente incomparável. U...   \n",
       "771  O chef Felipe Schaedler foi convidado para par...   \n",
       "773  Totalmente diferente de tudo o que você já pro...   \n",
       "776  Petit gateau amazônico.\\nVenha saborear essa m...   \n",
       "\n",
       "                                              comments  \n",
       "0    [{'author': 'audreycaminha', 'comment': 'Delic...  \n",
       "1    [{'author': 'karenmabel', 'comment': 'é sensac...  \n",
       "2    [{'author': '59cmlc', 'comment': 'Estive no Ba...  \n",
       "3    [{'author': 'ricfeitoza', 'comment': '👏🏽👏🏽👏🏽👏🏽...  \n",
       "4    [{'author': 'ginapsic', 'comment': 'Delicia'},...  \n",
       "..                                                 ...  \n",
       "765  [{'author': 'mellothz', 'comment': 'Estive no ...  \n",
       "767  [{'author': 'chriscalderaro', 'comment': 'Eu a...  \n",
       "771  [{'author': 'thiagosuico', 'comment': '@felipe...  \n",
       "773  [{'author': 'gilson_monteiro', 'comment': 'O q...  \n",
       "776  [{'author': 'victorer83', 'comment': '@marinay...  \n",
       "\n",
       "[606 rows x 2 columns]"
      ]
     },
     "execution_count": 7,
     "metadata": {},
     "output_type": "execute_result"
    }
   ],
   "source": [
    "posts"
   ]
  },
  {
   "cell_type": "markdown",
   "metadata": {},
   "source": [
    "### Removendo comentários que somente mencionam outros usuários"
   ]
  },
  {
   "cell_type": "code",
   "execution_count": 8,
   "metadata": {},
   "outputs": [],
   "source": [
    "for index, row in posts.iterrows():\n",
    "    for comment in row[\"comments\"]:\n",
    "        if re.search(\"^(@[a-z0-9_.]*\\s*)+$\", comment[\"comment\"]):\n",
    "            posts.at[index, \"comments\"].remove(comment)\n",
    "posts = posts.dropna()"
   ]
  },
  {
   "cell_type": "code",
   "execution_count": 9,
   "metadata": {},
   "outputs": [
    {
     "data": {
      "text/html": [
       "<div>\n",
       "<style scoped>\n",
       "    .dataframe tbody tr th:only-of-type {\n",
       "        vertical-align: middle;\n",
       "    }\n",
       "\n",
       "    .dataframe tbody tr th {\n",
       "        vertical-align: top;\n",
       "    }\n",
       "\n",
       "    .dataframe thead th {\n",
       "        text-align: right;\n",
       "    }\n",
       "</style>\n",
       "<table border=\"1\" class=\"dataframe\">\n",
       "  <thead>\n",
       "    <tr style=\"text-align: right;\">\n",
       "      <th></th>\n",
       "      <th>caption</th>\n",
       "      <th>comments</th>\n",
       "    </tr>\n",
       "  </thead>\n",
       "  <tbody>\n",
       "    <tr>\n",
       "      <th>0</th>\n",
       "      <td>Já provou os nossos Chás Gelados?\\nAs três com...</td>\n",
       "      <td>[{'author': 'audreycaminha', 'comment': 'Delic...</td>\n",
       "    </tr>\n",
       "    <tr>\n",
       "      <th>1</th>\n",
       "      <td>Uma das entradas exclusivas do Banzeiro Manaus...</td>\n",
       "      <td>[{'author': 'karenmabel', 'comment': 'é sensac...</td>\n",
       "    </tr>\n",
       "    <tr>\n",
       "      <th>2</th>\n",
       "      <td>“Todos os dias penso no compromisso que tenho ...</td>\n",
       "      <td>[{'author': '59cmlc', 'comment': 'Estive no Ba...</td>\n",
       "    </tr>\n",
       "    <tr>\n",
       "      <th>3</th>\n",
       "      <td>Felipe Schaedler, Cidadão Amazonense!\\n\\nAssis...</td>\n",
       "      <td>[{'author': 'ricfeitoza', 'comment': '👏🏽👏🏽👏🏽👏🏽...</td>\n",
       "    </tr>\n",
       "    <tr>\n",
       "      <th>4</th>\n",
       "      <td>Tanga verde de folhas, corpo claro de Cacau e ...</td>\n",
       "      <td>[{'author': 'ginapsic', 'comment': 'Delicia'},...</td>\n",
       "    </tr>\n",
       "    <tr>\n",
       "      <th>...</th>\n",
       "      <td>...</td>\n",
       "      <td>...</td>\n",
       "    </tr>\n",
       "    <tr>\n",
       "      <th>765</th>\n",
       "      <td>Desbrave novos sabores, embale seu paladar e d...</td>\n",
       "      <td>[{'author': 'mellothz', 'comment': 'Estive no ...</td>\n",
       "    </tr>\n",
       "    <tr>\n",
       "      <th>767</th>\n",
       "      <td>Pastel de pato. Deliciosamente incomparável. U...</td>\n",
       "      <td>[{'author': 'chriscalderaro', 'comment': 'Eu a...</td>\n",
       "    </tr>\n",
       "    <tr>\n",
       "      <th>771</th>\n",
       "      <td>O chef Felipe Schaedler foi convidado para par...</td>\n",
       "      <td>[{'author': 'thiagosuico', 'comment': '@felipe...</td>\n",
       "    </tr>\n",
       "    <tr>\n",
       "      <th>773</th>\n",
       "      <td>Totalmente diferente de tudo o que você já pro...</td>\n",
       "      <td>[{'author': 'gilson_monteiro', 'comment': 'O q...</td>\n",
       "    </tr>\n",
       "    <tr>\n",
       "      <th>776</th>\n",
       "      <td>Petit gateau amazônico.\\nVenha saborear essa m...</td>\n",
       "      <td>[{'author': 'victorer83', 'comment': '@marinay...</td>\n",
       "    </tr>\n",
       "  </tbody>\n",
       "</table>\n",
       "<p>606 rows × 2 columns</p>\n",
       "</div>"
      ],
      "text/plain": [
       "                                               caption  \\\n",
       "0    Já provou os nossos Chás Gelados?\\nAs três com...   \n",
       "1    Uma das entradas exclusivas do Banzeiro Manaus...   \n",
       "2    “Todos os dias penso no compromisso que tenho ...   \n",
       "3    Felipe Schaedler, Cidadão Amazonense!\\n\\nAssis...   \n",
       "4    Tanga verde de folhas, corpo claro de Cacau e ...   \n",
       "..                                                 ...   \n",
       "765  Desbrave novos sabores, embale seu paladar e d...   \n",
       "767  Pastel de pato. Deliciosamente incomparável. U...   \n",
       "771  O chef Felipe Schaedler foi convidado para par...   \n",
       "773  Totalmente diferente de tudo o que você já pro...   \n",
       "776  Petit gateau amazônico.\\nVenha saborear essa m...   \n",
       "\n",
       "                                              comments  \n",
       "0    [{'author': 'audreycaminha', 'comment': 'Delic...  \n",
       "1    [{'author': 'karenmabel', 'comment': 'é sensac...  \n",
       "2    [{'author': '59cmlc', 'comment': 'Estive no Ba...  \n",
       "3    [{'author': 'ricfeitoza', 'comment': '👏🏽👏🏽👏🏽👏🏽...  \n",
       "4    [{'author': 'ginapsic', 'comment': 'Delicia'},...  \n",
       "..                                                 ...  \n",
       "765  [{'author': 'mellothz', 'comment': 'Estive no ...  \n",
       "767  [{'author': 'chriscalderaro', 'comment': 'Eu a...  \n",
       "771  [{'author': 'thiagosuico', 'comment': '@felipe...  \n",
       "773  [{'author': 'gilson_monteiro', 'comment': 'O q...  \n",
       "776  [{'author': 'victorer83', 'comment': '@marinay...  \n",
       "\n",
       "[606 rows x 2 columns]"
      ]
     },
     "execution_count": 9,
     "metadata": {},
     "output_type": "execute_result"
    }
   ],
   "source": [
    "posts"
   ]
  },
  {
   "cell_type": "markdown",
   "metadata": {},
   "source": [
    "# Parte 3\n",
    "\n",
    "## Convertendo o dataframe para dict\n",
    "\n",
    "Com a parte de limpeza dos dados finalizada e antes do processamento realizado pelo NLTK, os dados serão representados em forma de **dict**."
   ]
  },
  {
   "cell_type": "code",
   "execution_count": 10,
   "metadata": {},
   "outputs": [],
   "source": [
    "posts = posts.to_dict('records')"
   ]
  },
  {
   "cell_type": "markdown",
   "metadata": {},
   "source": [
    "\n",
    "## Tokenizando sentenças e Strings\n",
    "\n",
    "Fazendo o uso do **nltk**, serão tokenizadas as sentenças e palavras do dataset. As sentenças serão quebradas com o tokenizador **Punkt** treinado para o Português, e as palavras, quebrando nos espaços em branco."
   ]
  },
  {
   "cell_type": "code",
   "execution_count": 12,
   "metadata": {},
   "outputs": [
    {
     "name": "stderr",
     "output_type": "stream",
     "text": [
      "[nltk_data] Downloading package punkt to /home/miguel/nltk_data...\n",
      "[nltk_data]   Package punkt is already up-to-date!\n"
     ]
    },
    {
     "data": {
      "text/plain": [
       "True"
      ]
     },
     "execution_count": 12,
     "metadata": {},
     "output_type": "execute_result"
    }
   ],
   "source": [
    "nltk.download(\"punkt\")"
   ]
  },
  {
   "cell_type": "code",
   "execution_count": 13,
   "metadata": {},
   "outputs": [],
   "source": [
    "sent_tokenizer=nltk.data.load('tokenizers/punkt/portuguese.pickle')\n",
    "\n",
    "for p in posts:\n",
    "    p[\"caption\"] = sent_tokenizer.tokenize(p[\"caption\"])\n",
    "    for index in range(len(p[\"caption\"])):\n",
    "        p[\"caption\"][index] = nltk.tokenize.word_tokenize(p[\"caption\"][index])\n",
    "    for c in p['comments']:\n",
    "        c[\"comment\"] = nltk.tokenize.word_tokenize(c[\"comment\"], language=\"portuguese\")"
   ]
  },
  {
   "cell_type": "code",
   "execution_count": null,
   "metadata": {},
   "outputs": [],
   "source": []
  },
  {
   "cell_type": "code",
   "execution_count": null,
   "metadata": {},
   "outputs": [],
   "source": []
  }
 ],
 "metadata": {
  "kernelspec": {
   "display_name": "Python 3",
   "language": "python",
   "name": "python3"
  },
  "language_info": {
   "codemirror_mode": {
    "name": "ipython",
    "version": 3
   },
   "file_extension": ".py",
   "mimetype": "text/x-python",
   "name": "python",
   "nbconvert_exporter": "python",
   "pygments_lexer": "ipython3",
   "version": "3.6.8"
  }
 },
 "nbformat": 4,
 "nbformat_minor": 2
}
