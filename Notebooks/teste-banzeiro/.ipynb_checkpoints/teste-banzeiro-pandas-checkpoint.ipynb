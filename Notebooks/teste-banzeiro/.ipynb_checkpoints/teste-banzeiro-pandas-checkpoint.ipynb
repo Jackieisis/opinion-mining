{
 "cells": [
  {
   "cell_type": "markdown",
   "metadata": {},
   "source": [
    "# Parte 1\n",
    "\n",
    "## Imports\n",
    "\n",
    "- **nltk**: Para POS tagging, tokenização de sentenças e demais itens inerentes a NLP\n",
    "- **json**: Para a leitura do dataset\n",
    "- **emoji**: Para converter emojis no texto para suas respectivas descriçrões\n",
    "- _emot_: Considerar o uso para extrair emojis e emoticons do texto"
   ]
  },
  {
   "cell_type": "code",
   "execution_count": 1,
   "metadata": {
    "slideshow": {
     "slide_type": "slide"
    }
   },
   "outputs": [],
   "source": [
    "import nltk\n",
    "import json\n",
    "import emoji"
   ]
  },
  {
   "cell_type": "markdown",
   "metadata": {},
   "source": [
    "## Leitura dos dados\n",
    "\n",
    "Lendo os dados do arquivo **banzeiro.json** em duas listas de objetos, que serão representados por `dicts`. Uma lista guardará os dados com os emojis substituídos pelas suas respectivas descrições e a outra, o conteúdo original."
   ]
  },
  {
   "cell_type": "code",
   "execution_count": 2,
   "metadata": {},
   "outputs": [],
   "source": [
    "with open(\"banzeiro.json\", \"r\") as f:\n",
    "    publications = json.load(f)"
   ]
  },
  {
   "cell_type": "markdown",
   "metadata": {},
   "source": [
    "## Limpeza de dados\n",
    "\n",
    "Algumas operações de limpeza dos dados deverão ser realizadas, considerando os seguintes pontos:\n",
    "\n",
    "- Comentários que apenas mencionam outros usuários não expressam uma opinião\n",
    "- Publicações sem comentários não possuem opiniões a serem mineradas\n",
    "- Publicações sem legenda não deixam claro a que se endereça a opinião\n"
   ]
  },
  {
   "cell_type": "markdown",
   "metadata": {},
   "source": [
    "### Removendo publicações sem legenda"
   ]
  },
  {
   "cell_type": "code",
   "execution_count": null,
   "metadata": {},
   "outputs": [],
   "source": [
    "for p in"
   ]
  },
  {
   "cell_type": "markdown",
   "metadata": {},
   "source": [
    "Fazendo download do _tokenizer_ **Punkt** do NLTK, que será usado para quebrar as sentenças em Português."
   ]
  },
  {
   "cell_type": "code",
   "execution_count": 3,
   "metadata": {},
   "outputs": [
    {
     "name": "stderr",
     "output_type": "stream",
     "text": [
      "[nltk_data] Downloading package punkt to /home/miguel/nltk_data...\n",
      "[nltk_data]   Package punkt is already up-to-date!\n"
     ]
    },
    {
     "data": {
      "text/plain": [
       "True"
      ]
     },
     "execution_count": 3,
     "metadata": {},
     "output_type": "execute_result"
    }
   ],
   "source": [
    "nltk.download(\"punkt\")"
   ]
  },
  {
   "cell_type": "markdown",
   "metadata": {},
   "source": [
    "Carregando o `sent_tokenizer` treinado para o português. Substitui as legendas e os comentários por listas de sentenças encontradas. Além disso, o `word_tokenizer` quebra cada sentença em uma lista de palavras."
   ]
  },
  {
   "cell_type": "code",
   "execution_count": 6,
   "metadata": {},
   "outputs": [
    {
     "name": "stdout",
     "output_type": "stream",
     "text": [
      "Já provou os nossos Chás Gelados?\n",
      "As três combinações que vem chamando a atenção dos nossos clientes que optam por uma opção refrescante e não alcoólica: Hibisco com Abacaxi de Manaus, Limão com Alecrim e Maracujá com Cumaru.\n",
      "{'author': 'audreycaminha', 'comment': 'Deliciosos'}\n",
      "Uma das entradas exclusivas do Banzeiro Manaus. Experimente o nosso Tacacá assado na brasa!\n",
      "{'author': 'karenmabel', 'comment': 'é sensacional!'}\n",
      "{'author': 'restaurantebanzeiro', 'comment': '@karenmabel 🙏🏼♥️'}\n",
      "{'author': 'tiagoijichi', 'comment': 'Precisa trazer pro @banzeirosp @felipeschaedler_'}\n",
      "{'author': 'keli_cake_art', 'comment': '@castellobrancomarcelo'}\n",
      "{'author': 'henriquelsilva_', 'comment': '@fernandacoutoo'}\n",
      "{'author': 'ciby0410', 'comment': 'Quanto a cuia ?'}\n",
      "{'author': 'ingredientedavez', 'comment': 'Sonhando com essa maravilha 😍'}\n",
      "{'author': 'dirodss', 'comment': '@jessyca_sallees'}\n",
      "“Todos os dias penso no compromisso que tenho com esse estado e como posso retribuir tudo que conquistei aqui. Uma dívida moral que me motivou à abertura do Banzeiro SP. São Paulo não é vaidade, não é fama e também não é por dinheiro. É por uma questão moral que tenho com o Amazonas! Quando abrimos o Banzeiro em Manaus, meu sonho era dar destaque para a cozinha amazonense. Passado isso, já levei a nossa banzeira para cinco países em três continentes diferentes. Mesmo com tal aparente sucesso, isso nunca me satisfez. Hoje eu entendo que não são os outros países do mundo que precisam conhecer o Amazonas. São os próprios brasileiros. O Brasil precisa descobrir o Brasil!”\n",
      "{'author': '59cmlc', 'comment': 'Estive no Banxeiro Manaus e posso garantir que é um caso de amor a primeira garfada❣'}\n",
      "{'author': 'ingridanne30', 'comment': '👏👏👏'}\n",
      "{'author': 'shirleysalim', 'comment': '👏👏👏👏👏'}\n",
      "{'author': 'rodrigosanches.oficial', 'comment': '👏👏👏 Hj irei conhecer essa culinária tão falada.'}\n",
      "{'author': 'lucardosow', 'comment': 'Genial e super verdadeiro! Fui nas últimas férias para a Amazônia e amei tudo, sem exceção. Melhor viagem da vida!!!! Agora saber que vcs estão aqui em SP perto de nos, nos possibilita apresentar essa linda gastronomia aos nossos amigos e incentiva-lós a conhecer essas belezas que nosso país tem. Só adaptaria sua frase para “O Brasil precisa e merece descobrir o Brasil” parabéns pelo lindo trabalho!!!!🙏🏻😀'}\n",
      "{'author': 'daiacrhistina', 'comment': 'Vocês arrebentaaaaaaaaam @felipeschaedler_ @thiagoschaedler @nelsaschaedler @ivarschaedler ❤️❤️❤️❤️'}\n",
      "{'author': 'cidiamara', 'comment': 'Razô 😍👏🏼👏🏼👏🏼👏🏼👏🏼'}\n",
      "{'author': 'vanderleiaayres', 'comment': '@restaurantebanzeiro Muito legal ! Suas palavras faz sentido, nós brasileiros precisamos valorizar mais e mais ❤️👍'}\n",
      "{'author': 'liviaraquelopes', 'comment': 'Sucesso👌🏻'}\n",
      "{'author': 'dominicks.s', 'comment': '❤️😍'}\n",
      "{'author': 'benolielmary', 'comment': 'Oi Felipe. Sou Mary do Beth balanço, gostaria de fazer uma reserva pro dia 27/09 após 8h. Para 6 pessoas. Pode ser?'}\n",
      "{'author': 'iwschaedler', 'comment': 'Bem isso Felipe! Muito feliz com o seu compromisso com a tradição amazonense.👏🏻👏🏻👏🏻'}\n",
      "{'author': 'robertobastos018', 'comment': '👏👏👏👏Show!!!'}\n",
      "{'author': 'robertobastos018', 'comment': 'Verdade nosso Brasil e nosso Amazonas é lindíssimo.'}\n",
      "{'author': 'claudiamenezesmartins', 'comment': 'Por isso que minha tese de doutorado será sobre a Gastronomia do Amazonas!!!! A melhor do mundo. 👊'}\n",
      "{'author': 'luci8439', 'comment': '👏👏👏'}\n",
      "{'author': 'raqueldb1', 'comment': '👏👏👏'}\n",
      "{'author': 'geanesimoespelomundo', 'comment': '👏🏽👏🏽👏🏽👏🏽Sucesso!!!'}\n",
      "{'author': 'adrianoguinzelli', 'comment': '👏👏👏👏 Pensamento positivo que faz bem ao coração! Pro alto e avante'}\n",
      "{'author': 'camilabarrros', 'comment': 'Florianópolis precisa conhecer o Amazonas!!! Vem Banzeiro!!!😍❤️'}\n",
      "{'author': 'gilbertomoreno9', 'comment': '👏👏'}\n",
      "{'author': 'neya_souza_1', 'comment': '👏🏻👏🏻👏🏻 Sucesso'}\n",
      "{'author': 'grace_natividade', 'comment': 'Lindas palavras, o Brasil precisa descobrir o Brasil... verdade!'}\n",
      "{'author': 'vivian_am', 'comment': 'Muito orgulho! Obrigada por isso!'}\n",
      "Felipe Schaedler, Cidadão Amazonense!\n",
      "\n",
      "Assista na íntegra o discurso do Chef Felipe Schaedler na entrega do título de Cidadão Amazonense, na última terça-feira, dia 10, no plenário da Assembleia Legislativa do Estado do Amazonas.\n",
      "{'author': 'ricfeitoza', 'comment': '👏🏽👏🏽👏🏽👏🏽'}\n",
      "{'author': 'marcomerini', 'comment': 'Fantástico. Merecido!!'}\n",
      "{'author': 'marcomerini', 'comment': 'Parabéns Felipe!'}\n",
      "{'author': 'thatahaissa', 'comment': '👏🏾👏🏾👏🏾👏🏾👏🏾'}\n",
      "{'author': 'chef.sandracarmo', 'comment': 'Que linda história e trajetória, na época da minha faculdade Sempre ouvia falar do Felipe mas, totalmente diferente do que eu ouvi no seu discurso, e essa história como muitas das que nos expira a ter forças pra não desistir dos nossos sonhos. Meus parabéns muito merecido essa homenagem👏👏👏😍'}\n",
      "{'author': 'marcelolimafilho', 'comment': 'Minhas felicitações amigo Felipe, extensivamente à sua família e ao seu staff. Pra você, o céu é o limite.👏👏'}\n",
      "{'author': 'nanasarmento', 'comment': 'Quem emocionante. Parabéns!'}\n",
      "{'author': 'sidiaambrosio', 'comment': 'Eu sabia que Itacoatiara tinha sido a tua fonte de inspiração. Minha Velha Serpa é abençoada mesmo 🤗😍😂😂😂🙏🙏 Parabéns 👏👏'}\n",
      "{'author': 'andreacampanhol', 'comment': 'Parabéns pela conquista @felipeschaedler_ . Assisti o episódio de chefs brasileiros e vi como foi o inicio de sua trajetória. Você não desistiu do seu sonho. Inspiração para a vida. Deus te abençoe ❤'}\n",
      "{'author': 'ione_lira', 'comment': 'Ser grato um dos mais lindos sentimentos ❣️👏🏽👏🏽👏🏽👏🏽'}\n",
      "{'author': 'dibjorge', 'comment': '👏👏👏👏👏👏👏👏 Que show de discurso cara! Forte abraço @felipeschaedler_ merecedor !'}\n",
      "{'author': 'decinhachaves', 'comment': 'Inspirador!!! Parabéns @felipeschaedler_ e toda família banzeiro e Moquem 👏🏻👏🏻👏🏻👏🏻'}\n",
      "{'author': 'solange_rolim_oliveira', 'comment': 'Parabéns,querido Deus abençoe abundantemente....'}\n",
      "{'author': 'eminaschaekenrosseti', 'comment': 'Parabéns Felipe. Você é \"The best.\"'}\n",
      "{'author': 'eu_kiki', 'comment': 'Eu amo um chef ♡'}\n",
      "{'author': 'aletheiaparanhos', 'comment': '👏🏻👏🏻👏🏻👏🏻👏🏻👏🏻👏🏻👏🏻'}\n",
      "{'author': 'machadorose', 'comment': 'Acompanhamos você desde do começo do seu sucesso...Parabéns, você faz por merecer. 👏👏👏👏👏👏'}\n",
      "{'author': 'davidsonruas', 'comment': 'Parabéns, Felipe!! Trajetória de sucesso que trouxe o reconhecimento do Estado do Amazonas. Que seu caminho continue iluminado.'}\n",
      "{'author': 'aurealinag5', 'comment': '@jordanadesales @barbarafolhadela @melissa.sanches.52'}\n",
      "{'author': 'aurealinag5', 'comment': 'Título mais q merecido!!!! Discurso emocionante!!!👏🏻👏🏻👏🏻👏🏻👏🏻👏🏻👏🏻👏🏻👏🏻👏🏻'}\n",
      "{'author': 'shinsuzuran', 'comment': 'Parabéns Felipe'}\n",
      "{'author': 'edilmapantoja', 'comment': '@pantojapedro ❤️😍'}\n",
      "{'author': 'edilmapantoja', 'comment': 'Parabéns Felipe! Vc merece. ❤️🌷'}\n",
      "{'author': 'laizedealenx', 'comment': '😍😍👏'}\n",
      "Tanga verde de folhas, corpo claro de Cacau e cabelo ruivo de Hibisco. Eis o Curupira do Banzeiro!\n",
      "•\n",
      "📸 @joaoquetirou\n",
      "{'author': 'ginapsic', 'comment': 'Delicia'}\n",
      "{'author': 'paulavalmont', 'comment': 'Parece ótimo! 👏🏽👏🏽👏🏽'}\n",
      "{'author': 'zenfermeiro', 'comment': 'Vou provar no fim de novembro, aguarde!👌👌'}\n",
      "{'author': 'estelasimoes1', 'comment': '@herrera_pam'}\n",
      "#Repost @felipeschaedler_\n",
      "・・・\n",
      "“O Amazonas é a minha vida” e é assim que vou receber com muito orgulho, na próxima terça-feira, o título de cidadão Amazonense, grande honra concebido pela deputada @alecampelo. Muito obrigado a todos os envolvidos por esse grande momento da minha vida. Estamos trabalhando duro para que a gastronomia amazonense seja representada com muito carinho e muita verdade mundo a fora. 🇧🇷🇧🇷🇧🇷\n",
      "{'author': 'cifalcao', 'comment': '👏👏👏'}\n",
      "{'author': 'luciocaronedias', 'comment': 'Parabéns, você virou a cara de Manaus'}\n",
      "{'author': 'ely_zanebatista', 'comment': 'Merecidíssimo 👏👏👏'}\n",
      "{'author': 'menesesglenda', 'comment': '👏🏼👏🏼👏🏼👏🏼👏🏼👏🏼'}\n",
      "{'author': 'ru_nita_', 'comment': 'Finalmente, mais que merecido!!! 👏👏👏👏👏'}\n",
      "{'author': 'rosiananutri', 'comment': 'Merecido! Parabéns!'}\n",
      "{'author': 'emiliafbf', 'comment': 'Parabéns! Merecidíssimo!!!👏🏻👏🏻👏🏻🎉🎉🎉'}\n",
      "{'author': 'shinsuzuran', 'comment': 'Parabéns!'}\n",
      "{'author': 'laizedealenx', 'comment': '👏'}\n",
      "#Repost @felipeschaedler_\n",
      "・・・\n",
      "5 de setembro, dia da Amazônia.\n",
      "Por menos fumaça, mais respeito pelos povos da floresta, pela biodiversidade...\n",
      "Vida longa a uma das regiões mais importantes do planeta!\n",
      "{'author': 'vilminhapontes', 'comment': '👏🌷❤️🙏'}\n",
      "Experimente nossos drinks exclusivos com o genuíno sabor da Amazônia.\n",
      "{'author': 'carvalhosyuri', 'comment': 'Amo os dois'}\n",
      "{'author': 'benolielmary', 'comment': 'Vocês fazem reserva?'}\n",
      "{'author': 'noicigraeffranzi', 'comment': 'Especiais....'}\n",
      "{'author': 'laizedealenx', 'comment': '😍'}\n",
      "{'author': 'maisposts', 'comment': '😍😍😍'}\n",
      "Aguardamos vocês nesta segunda-feira! :)\n",
      "{'author': 'suzannecolares', 'comment': '❤️'}\n",
      "{'author': 'andreylisboaa', 'comment': '😓😓😓'}\n",
      "Das combinações que mais gostamos mais gosta no Amazonas, uma delas é composta por três principais protagonistas: Pirarucu, Queijo Coalho e Banana da Terra.\n",
      "\n",
      "Experimente o nosso Pirarucu Amazônico!\n",
      "{'author': 'lydia.r.f', 'comment': 'Combinação perfeita 😋😍'}\n",
      "{'author': 'chelledantas71', 'comment': 'Ai que delicia 😋🙄'}\n",
      "{'author': 'chefcondeaquino', 'comment': \"Desde Manaus: Está 'paidégua' ou será, está 'xibata'!\"}\n",
      "{'author': 'claudiaiten', 'comment': '@luciavieira060664'}\n",
      "{'author': 'alicesiqueira', 'comment': 'Adoro!!! Só que pra mim, é banana pacovã.🤣🤣🤣'}\n",
      "{'author': 'cibellybarros', 'comment': 'E que combinação! 👏👏👏❤️❤️❤️'}\n",
      "{'author': 'naraalmeidaoli', 'comment': '👏👏👏👏👏'}\n",
      "{'author': 'marita.moura', 'comment': 'Seguraaaaa @plantas_e_plantas_byjr . Vão!'}\n",
      "{'author': 'alexandrayasuda', 'comment': 'Ai meu coração ♥😭'}\n",
      "{'author': 'plantas_e_plantas_byjr', 'comment': '@marita.moura Muitoooooo!'}\n",
      "{'author': 'eduardoyasudaa', 'comment': '😍'}\n",
      "{'author': 'noicigraeffranzi', 'comment': 'Hummmmmm....'}\n",
      "{'author': 'ana.msolla', 'comment': '@mari.solla restaurante que falei, em Manaus...'}\n",
      "{'author': 'marlassantosy', 'comment': 'Onde em São Paulo? Preciso matar a saudade desse prato maravilhoso!!'}\n",
      "{'author': 'restaurantebanzeiro', 'comment': 'Oi, @marlassantosy! O @banzeirosp fica na Tabapuã, 830, Itaim. Mas esse prato é do cardápio de Manaus, viu? Não deixe de conferir as novidades do nosso cardápio paulistano no Instagram de lá. :)'}\n",
      "{'author': 'carolklering', 'comment': '@liliangomesnh'}\n",
      "Hoje é um dia importante para a família Banzeiro. Abrimos oficialmente as portas da nossa casa em São Paulo!\n",
      "\n",
      "Bem-vindos ao @BanzeiroSP. :)\n",
      "{'author': 'luizhenriqueprete', 'comment': '@chrisoliveirasaraiva se Deus permitir nós vamos nesse restaurante. 😍😍😍😍'}\n",
      "{'author': 'joaopedro_rsrocha', 'comment': '@likafeil Capaz!!! Bahhh.. mais perto que nunca...'}\n",
      "{'author': 'likafeil', 'comment': '@joaopedro_rsrocha só vai economizar 9h de voo 🙏🏼🙏🏼'}\n",
      "{'author': 'likafeil', 'comment': 'Nesse tu tinha que estagiar @luanaprettodecastro 💕💕'}\n",
      "{'author': 'gustravo_ribeiro', 'comment': 'muito sucesso ao Banzeiro aonde fiz parte dessa família e aprendi muito sobre comida e valores pessoas amizades que vou levar pra sempre na minha vida !'}\n",
      "{'author': 'carlaborriello_', 'comment': 'Sucesso a todos !!!! Feliz em ter um Banzeiro aqui em Sampa 👏🏻👏🏻👏🏻'}\n",
      "{'author': 'sueleaos', 'comment': '@herwinhlg'}\n",
      "{'author': 'endoscopia_endus', 'comment': 'Com td talento banzeiro, esse décor, não tem errada...'}\n",
      "{'author': 'angerson_', 'comment': '@erickmotta que dia'}\n",
      "{'author': 'erickmotta', 'comment': '@angerson_ que tal domingo?'}\n",
      "{'author': 'silvialmeidas', 'comment': '@erickmotta aprovo domingo'}\n",
      "{'author': 'erickmotta', 'comment': '@silvialmeidas, vamos almoçar então? Vou trabalhar à noite. @angerson_, fechado?'}\n",
      "{'author': 'angerson_', 'comment': '@silvialmeidas @erickmotta domingo'}\n",
      "{'author': 'fabiolasouzaf_', 'comment': '👏👏👏👌👌👌🔝🔝🔝'}\n",
      "{'author': 'andressa.mc.santos', 'comment': '@paulagertrudes @helenadecastro super recomendo!'}\n",
      "{'author': 'angelamcelestino', 'comment': '@roose_diane'}\n",
      "{'author': 'angelamcelestino', 'comment': '@roose_diane'}\n",
      "{'author': 'roose_diane', 'comment': 'Ficou lindo e charmoso!!!👏🏽👏🏽👏🏽\\n@angelamcelestino'}\n",
      "{'author': 'amandagouveiamoura', 'comment': '❤️❤️❤️ muito sucesso, aqui e lá, restaurante muito além da comida, com tradição e valores. 👏👏'}\n",
      "{'author': 'suieko', 'comment': '@dmribeirof 👏🏽👏🏽'}\n",
      "{'author': 'baagentile', 'comment': '@juliapi conhece?'}\n",
      "{'author': 'juliapi', 'comment': '@baagentile clarooo!! É muito mara em Manaus, vamos combinar de ir esses dias!'}\n",
      "{'author': 'lubastosvargas', 'comment': '@sandrocolomba @fercolomba um pouquinho do Norte aí pra vcs ❤️'}\n",
      "{'author': 'pwpacheco3943', 'comment': 'Maravilha..sucesso!!'}\n",
      "Lentinula Raphanica pertence ao mesmo gênero do cogumelo shitake, um dos mais conhecidos e consumidos no mundo. Ele se diferencia dos outros cogumelos pelo sabor, textura e porque não é cultivado em outros lugares do mundo. Além disso, o Brasil é um País que está começando a comer cogumelo e, com o consumo crescente, será um diferencial ter um produto com a marca da Amazônia. Do ponto de vista gastronômico, o Raphanica precisa ser desidratado e reidratado com água gelada para atingir um pico de sabor. No Banzeiro, ele é a estrela do prato. Você já provou o nosso Risoto de Cogumelo Amazônico?\n",
      "{'author': 'karen210477', 'comment': 'Nossa! Quero!'}\n",
      "{'author': 'gabilixlife', 'comment': 'Quero!'}\n",
      "{'author': 'lbrasifilho', 'comment': 'Quero com cogumelo yanomami e com @origensbrasil 👍🏻👊🏻'}\n",
      "Pirarucu empanado na Farinha do Uarini com Vinagrete, um dos mais tradicionais da casa. Vamos almoçar? :)\n",
      "{'author': 'restaurantebanzeiro', 'comment': '@edumagnoni Nosso cardápio de SP está cheio de novidades, Edu! Falta pouco! :)'}\n",
      "{'author': 'restaurantebanzeiro', 'comment': '@izabel__souzza Vem jantar com a gente, Izabel! :)'}\n",
      "{'author': 'izabel__souzza', 'comment': '@restaurantebanzeiro falta pouco..'}\n",
      "{'author': 'spmaia', 'comment': '@gustavomedeiroos_ deu água na boca'}\n",
      "Você já pode fazer sua reserva, para a partir do dia 26, através do link na descrição do perfil do @BanzeiroSP! Estamos ansiosos para recebê-los! 💚\n",
      "\n",
      "#Repost @banzeirosp\n",
      "・・・\n",
      "Para curtir um momento relax após o almoço. Projeto @claudianerlingarquitetura, nossa artista desde sempre!\n",
      "{'author': 'juliana_andreotti', 'comment': '@deoliveiracarol'}\n",
      "{'author': 'deoliveiracarol', 'comment': '@juliana_andreotti ameii'}\n",
      "{'author': 'deoliveiracarol', 'comment': '@juliana_andreotti ameii'}\n",
      "{'author': 'geniherculano', 'comment': '😱😱😱 Não acredito... preciso conhecer!!! @klebermh precisamos ir para vc apreciar um maravilhoso tambaqui! 🤗🤗🤗'}\n",
      "Aquela Matrinxã torradinha por fora e suculenta por dentro, do jeito que a gente gosta.\n",
      "\n",
      "Vamos jantar no Banzeiro?\n",
      "{'author': 'windsorferreira', 'comment': '@rafa_godooi'}\n",
      "{'author': 'rafa_godooi', 'comment': '@windsorferreira top hein irmão'}\n",
      "{'author': 'lusalles83', 'comment': '@wilcon'}\n",
      "{'author': 'eurafarfernandes', 'comment': '@eurodrigodlima vamos?'}\n",
      "Tudo pronto para recebê-los neste domingo tão especial. Feliz Dia dos Pais a todos os nossos amigos e clientes! 🧡\n"
     ]
    },
    {
     "ename": "KeyError",
     "evalue": "'comments'",
     "output_type": "error",
     "traceback": [
      "\u001b[0;31m---------------------------------------------------------------------------\u001b[0m",
      "\u001b[0;31mKeyError\u001b[0m                                  Traceback (most recent call last)",
      "\u001b[0;32m<ipython-input-6-bbdae0226ac4>\u001b[0m in \u001b[0;36m<module>\u001b[0;34m()\u001b[0m\n\u001b[1;32m      4\u001b[0m \u001b[0;32mfor\u001b[0m \u001b[0mp\u001b[0m \u001b[0;32min\u001b[0m \u001b[0mpublications\u001b[0m\u001b[0;34m:\u001b[0m\u001b[0;34m\u001b[0m\u001b[0;34m\u001b[0m\u001b[0m\n\u001b[1;32m      5\u001b[0m     \u001b[0mprint\u001b[0m\u001b[0;34m(\u001b[0m\u001b[0mp\u001b[0m\u001b[0;34m[\u001b[0m\u001b[0;34m'caption'\u001b[0m\u001b[0;34m]\u001b[0m\u001b[0;34m)\u001b[0m\u001b[0;34m\u001b[0m\u001b[0;34m\u001b[0m\u001b[0m\n\u001b[0;32m----> 6\u001b[0;31m     \u001b[0;32mfor\u001b[0m \u001b[0mc\u001b[0m \u001b[0;32min\u001b[0m \u001b[0mp\u001b[0m\u001b[0;34m[\u001b[0m\u001b[0;34m'comments'\u001b[0m\u001b[0;34m]\u001b[0m\u001b[0;34m:\u001b[0m\u001b[0;34m\u001b[0m\u001b[0;34m\u001b[0m\u001b[0m\n\u001b[0m\u001b[1;32m      7\u001b[0m         \u001b[0mprint\u001b[0m\u001b[0;34m(\u001b[0m\u001b[0mc\u001b[0m\u001b[0;34m)\u001b[0m\u001b[0;34m\u001b[0m\u001b[0;34m\u001b[0m\u001b[0m\n\u001b[1;32m      8\u001b[0m \u001b[0;34m\u001b[0m\u001b[0m\n",
      "\u001b[0;31mKeyError\u001b[0m: 'comments'"
     ]
    }
   ],
   "source": [
    "sent_tokenizer=nltk.data.load('tokenizers/punkt/portuguese.pickle')\n",
    "word_tokenizer=nltk.tokenize.api.StringTokenizer()\n",
    "\n",
    "for p in publications:\n",
    "    print(p['caption'])\n",
    "    for c in p['comments']:\n",
    "        print(c)\n",
    "                \n"
   ]
  },
  {
   "cell_type": "code",
   "execution_count": null,
   "metadata": {},
   "outputs": [],
   "source": []
  }
 ],
 "metadata": {
  "kernelspec": {
   "display_name": "Python 3",
   "language": "python",
   "name": "python3"
  },
  "language_info": {
   "codemirror_mode": {
    "name": "ipython",
    "version": 3
   },
   "file_extension": ".py",
   "mimetype": "text/x-python",
   "name": "python",
   "nbconvert_exporter": "python",
   "pygments_lexer": "ipython3",
   "version": "3.6.8"
  }
 },
 "nbformat": 4,
 "nbformat_minor": 2
}
