{
 "cells": [
  {
   "cell_type": "markdown",
   "metadata": {},
   "source": [
    "- **nltk**: Para POS tagging, tokenização de sentenças e demais itens inerentes a NLP\n",
    "- **json**: Para a leitura do dataset\n",
    "- **emoji**: Para converter emojis no texto para suas respectivas descriçrões\n",
    "- _emot_: Considerar o uso para extrair emojis e emoticons do texto"
   ]
  },
  {
   "cell_type": "code",
   "execution_count": 3,
   "metadata": {
    "slideshow": {
     "slide_type": "slide"
    }
   },
   "outputs": [
    {
     "name": "stderr",
     "output_type": "stream",
     "text": [
      "[nltk_data] Error loading nltk.tokenize.api: Package\n",
      "[nltk_data]     'nltk.tokenize.api' not found in index\n"
     ]
    },
    {
     "data": {
      "text/plain": [
       "False"
      ]
     },
     "execution_count": 3,
     "metadata": {},
     "output_type": "execute_result"
    }
   ],
   "source": [
    "import nltk\n",
    "import json\n",
    "import emoji"
   ]
  },
  {
   "cell_type": "markdown",
   "metadata": {},
   "source": [
    "Lendo os dados do arquivo **banzeiro.json** em duas listas, uma que guardará os dados com os emojis substituídos pelas suas respectivas descrições e outra que permanece com o conteúdo original. O `if` testa se o campo `comments` está presente antes de iterar."
   ]
  },
  {
   "cell_type": "code",
   "execution_count": 39,
   "metadata": {},
   "outputs": [],
   "source": [
    "with open(\"banzeiro.json\", \"r\") as f:\n",
    "    publications = json.load(f)\n",
    "    \n",
    "with open(\"banzeiro.json\", \"r\") as f:\n",
    "    publications_emoji = json.load(f)\n",
    "\n",
    "#for p in publications:\n",
    "#    if \"comments\" in p:\n",
    "#        for c in p[\"comments\"]:\n",
    "#            c[\"comment\"] = emoji.demojize(c[\"comment\"])"
   ]
  },
  {
   "cell_type": "markdown",
   "metadata": {},
   "source": [
    "Fazendo download do _tokenizer_ **Punkt** do NLTK, que será usado para quebrar as sentenças em Português."
   ]
  },
  {
   "cell_type": "code",
   "execution_count": 5,
   "metadata": {},
   "outputs": [
    {
     "name": "stderr",
     "output_type": "stream",
     "text": [
      "[nltk_data] Downloading package punkt to /home/miguel/nltk_data...\n",
      "[nltk_data]   Package punkt is already up-to-date!\n"
     ]
    },
    {
     "data": {
      "text/plain": [
       "True"
      ]
     },
     "execution_count": 5,
     "metadata": {},
     "output_type": "execute_result"
    }
   ],
   "source": [
    "nltk.download(\"punkt\")"
   ]
  },
  {
   "cell_type": "markdown",
   "metadata": {},
   "source": [
    "Carregando o `sent_tokenizer` treinado para o português. Substitui as legendas e os comentários por listas de sentenças encontradas. Além disso, o `word_tokenizer` quebra cada sentença em uma lista de palavras."
   ]
  },
  {
   "cell_type": "code",
   "execution_count": null,
   "metadata": {},
   "outputs": [],
   "source": [
    "sent_tokenizer=nltk.data.load('tokenizers/punkt/portuguese.pickle')\n",
    "word_tokenizer=nltk.tokenize.api.StringTokenizer()\n",
    "\n",
    "for p in publications:\n",
    "    caption_sentences = sent_tokenizer.tokenize(p[\"caption\"])\n",
    "    print(\">>\",caption_sentences)\n",
    "    if \"comments\" in p:\n",
    "        for c in p[\"comments\"]:\n",
    "            comment_sentences = sent_tokenizer.tokenize(c[\"comment\"])\n",
    "            comment_sentences_word = word_tokenizer.tokenize_sents(comment_sentences)\n",
    "            print(comment_sentences_word)\n",
    "                \n"
   ]
  },
  {
   "cell_type": "code",
   "execution_count": null,
   "metadata": {},
   "outputs": [],
   "source": []
  }
 ],
 "metadata": {
  "kernelspec": {
   "display_name": "Python 3",
   "language": "python",
   "name": "python3"
  },
  "language_info": {
   "codemirror_mode": {
    "name": "ipython",
    "version": 3
   },
   "file_extension": ".py",
   "mimetype": "text/x-python",
   "name": "python",
   "nbconvert_exporter": "python",
   "pygments_lexer": "ipython3",
   "version": "3.6.8"
  }
 },
 "nbformat": 4,
 "nbformat_minor": 2
}
